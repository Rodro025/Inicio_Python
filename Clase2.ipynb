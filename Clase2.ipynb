{
  "nbformat": 4,
  "nbformat_minor": 0,
  "metadata": {
    "colab": {
      "provenance": [],
      "authorship_tag": "ABX9TyN2J0AYc32xoF3r+fbFTn5u",
      "include_colab_link": true
    },
    "kernelspec": {
      "name": "python3",
      "display_name": "Python 3"
    },
    "language_info": {
      "name": "python"
    }
  },
  "cells": [
    {
      "cell_type": "markdown",
      "metadata": {
        "id": "view-in-github",
        "colab_type": "text"
      },
      "source": [
        "<a href=\"https://colab.research.google.com/github/Rodro025/Inicio_Python/blob/main/Clase2.ipynb\" target=\"_parent\"><img src=\"https://colab.research.google.com/assets/colab-badge.svg\" alt=\"Open In Colab\"/></a>"
      ]
    },
    {
      "cell_type": "code",
      "execution_count": 2,
      "metadata": {
        "colab": {
          "base_uri": "https://localhost:8080/"
        },
        "id": "VYabspSq_kFS",
        "outputId": "ddd7b04d-40d9-4bb3-8d22-9c76c2156efc"
      },
      "outputs": [
        {
          "output_type": "stream",
          "name": "stdout",
          "text": [
            "Hola mundo!\n"
          ]
        }
      ],
      "source": [
        "print(\"Hola mundo!\")"
      ]
    },
    {
      "cell_type": "code",
      "source": [
        "nombre=input(\"ingresa tu nombre\")\n",
        "print(nombre)"
      ],
      "metadata": {
        "colab": {
          "base_uri": "https://localhost:8080/"
        },
        "id": "QsRIO6PdIRcF",
        "outputId": "7b945949-ba8e-414c-b703-886c4714299e"
      },
      "execution_count": 6,
      "outputs": [
        {
          "output_type": "stream",
          "name": "stdout",
          "text": [
            "ingresa tu nombreMaria la del barrio\n",
            "Maria la del barrio\n"
          ]
        }
      ]
    },
    {
      "cell_type": "code",
      "source": [
        "nombre = 129.99\n",
        "print(nombre)"
      ],
      "metadata": {
        "colab": {
          "base_uri": "https://localhost:8080/"
        },
        "id": "1SU-GK-DJRiA",
        "outputId": "c1a15bdf-015a-4e9f-f8af-7f1c6f805271"
      },
      "execution_count": 5,
      "outputs": [
        {
          "output_type": "stream",
          "name": "stdout",
          "text": [
            "129.99\n"
          ]
        }
      ]
    },
    {
      "cell_type": "code",
      "source": [
        "print(nombre)"
      ],
      "metadata": {
        "colab": {
          "base_uri": "https://localhost:8080/"
        },
        "id": "-MlMyxNuKBt-",
        "outputId": "a3759887-c488-4a80-ea5d-c3f1a655c16c"
      },
      "execution_count": 7,
      "outputs": [
        {
          "output_type": "stream",
          "name": "stdout",
          "text": [
            "Maria la del barrio\n"
          ]
        }
      ]
    },
    {
      "cell_type": "markdown",
      "source": [
        "---"
      ],
      "metadata": {
        "id": "QJEvRg37KR67"
      }
    },
    {
      "cell_type": "code",
      "source": [
        "lista_de_nombres = \"\"\"\n",
        "1.  Hugo\n",
        "2.  Martín\n",
        "3.  Lucas\n",
        "4.  Mateo\n",
        "5.  Leo\n",
        "6.  Daniel\n",
        "7.  Alejandro\n",
        "8.  Pablo\n",
        "9.  Manuel\n",
        "10.  Álvaro\n",
        "11.  Adrián\n",
        "12.  David\n",
        "13.  Mario\n",
        "\"\"\"\n",
        "print(lista_de_nombres)"
      ],
      "metadata": {
        "colab": {
          "base_uri": "https://localhost:8080/"
        },
        "id": "yvL7MLBzKUQ2",
        "outputId": "00cb407f-16c7-41b4-f766-13e0d420d950"
      },
      "execution_count": 9,
      "outputs": [
        {
          "output_type": "stream",
          "name": "stdout",
          "text": [
            "\n",
            "1.  Hugo \n",
            "2.  Martín \n",
            "3.  Lucas \n",
            "4.  Mateo \n",
            "5.  Leo \n",
            "6.  Daniel \n",
            "7.  Alejandro \n",
            "8.  Pablo \n",
            "9.  Manuel\n",
            "10.  Álvaro \n",
            "11.  Adrián \n",
            "12.  David \n",
            "13.  Mario \n",
            "\n"
          ]
        }
      ]
    },
    {
      "cell_type": "markdown",
      "source": [
        "objeto:describe propiedades que va a tener el objeto\n"
      ],
      "metadata": {
        "id": "pAZmTj50Lc9I"
      }
    },
    {
      "cell_type": "code",
      "source": [
        "len(lista_de_nombres)"
      ],
      "metadata": {
        "colab": {
          "base_uri": "https://localhost:8080/"
        },
        "id": "ao4L9whmLyYc",
        "outputId": "5ae9f25f-f802-48f6-d0e6-2eeb278022df"
      },
      "execution_count": 10,
      "outputs": [
        {
          "output_type": "execute_result",
          "data": {
            "text/plain": [
              "153"
            ]
          },
          "metadata": {},
          "execution_count": 10
        }
      ]
    },
    {
      "cell_type": "code",
      "source": [
        "lista_cleaned = lista_de_nombres.split(\"\\n\")"
      ],
      "metadata": {
        "id": "c-64PENJL5J9"
      },
      "execution_count": 33,
      "outputs": []
    },
    {
      "cell_type": "code",
      "source": [
        "lista_cleaned[2]"
      ],
      "metadata": {
        "colab": {
          "base_uri": "https://localhost:8080/",
          "height": 36
        },
        "id": "1JITdo9zMz7Z",
        "outputId": "582cf13b-bb2f-4f6f-87bd-ff73fbffe586"
      },
      "execution_count": 16,
      "outputs": [
        {
          "output_type": "execute_result",
          "data": {
            "text/plain": [
              "'2.  Martín '"
            ],
            "application/vnd.google.colaboratory.intrinsic+json": {
              "type": "string"
            }
          },
          "metadata": {},
          "execution_count": 16
        }
      ]
    },
    {
      "cell_type": "markdown",
      "source": [
        "Recorriendo listas"
      ],
      "metadata": {
        "id": "o8VaD09bNIKs"
      }
    },
    {
      "cell_type": "code",
      "source": [
        "for x in lista_cleaned:\n",
        "  print(\"Este es el texto de todo lo desamblado\")\n",
        "  print(x)"
      ],
      "metadata": {
        "colab": {
          "base_uri": "https://localhost:8080/"
        },
        "id": "svJNzWpHNLGZ",
        "outputId": "34d1e9b9-70f9-4f34-81ee-8fb3340a2d7a"
      },
      "execution_count": 17,
      "outputs": [
        {
          "output_type": "stream",
          "name": "stdout",
          "text": [
            "Este es el texto de todo lo desamblado\n",
            "\n",
            "Este es el texto de todo lo desamblado\n",
            "1.  Hugo \n",
            "Este es el texto de todo lo desamblado\n",
            "2.  Martín \n",
            "Este es el texto de todo lo desamblado\n",
            "3.  Lucas \n",
            "Este es el texto de todo lo desamblado\n",
            "4.  Mateo \n",
            "Este es el texto de todo lo desamblado\n",
            "5.  Leo \n",
            "Este es el texto de todo lo desamblado\n",
            "6.  Daniel \n",
            "Este es el texto de todo lo desamblado\n",
            "7.  Alejandro \n",
            "Este es el texto de todo lo desamblado\n",
            "8.  Pablo \n",
            "Este es el texto de todo lo desamblado\n",
            "9.  Manuel\n",
            "Este es el texto de todo lo desamblado\n",
            "10.  Álvaro \n",
            "Este es el texto de todo lo desamblado\n",
            "11.  Adrián \n",
            "Este es el texto de todo lo desamblado\n",
            "12.  David \n",
            "Este es el texto de todo lo desamblado\n",
            "13.  Mario \n",
            "Este es el texto de todo lo desamblado\n",
            "\n"
          ]
        }
      ]
    },
    {
      "cell_type": "code",
      "source": [
        "lista_completamente_limpia = []"
      ],
      "metadata": {
        "id": "St2J2hPKOx6G"
      },
      "execution_count": 67,
      "outputs": []
    },
    {
      "cell_type": "code",
      "source": [
        "for name in lista_cleaned:\n",
        "  print(name.lower())"
      ],
      "metadata": {
        "colab": {
          "base_uri": "https://localhost:8080/"
        },
        "id": "XXW3A2cxNuV-",
        "outputId": "b4061e9e-3e9e-4186-c00b-0044f99a88df"
      },
      "execution_count": 34,
      "outputs": [
        {
          "output_type": "stream",
          "name": "stdout",
          "text": [
            "\n",
            "1.  hugo \n",
            "2.  martín \n",
            "3.  lucas \n",
            "4.  mateo \n",
            "5.  leo \n",
            "6.  daniel \n",
            "7.  alejandro \n",
            "8.  pablo \n",
            "9.  manuel\n",
            "10.  álvaro \n",
            "11.  adrián \n",
            "12.  david \n",
            "13.  mario \n",
            "\n"
          ]
        }
      ]
    },
    {
      "cell_type": "code",
      "source": [
        "for name in lista_cleaned:\n",
        "  #if name == \"\":\n",
        "  #  print(\"Este elemento es vacío\")\n",
        "  #else:\n",
        "  #  solo_nombre = name.split(\"  \")[1]\n",
        "  #  solo_nombre_no_spaces = solo_nombre.strip().lower() # sacarles los espacio y poenerlo en minuscula\n",
        "  #  lista_completamente_limpia.append(solo_nombre_no_spaces)\n",
        "  if name != \"\":\n",
        "    solo_nombre = name.split(\"  \")[1]\n",
        "    solo_nombre_no_spaces = solo_nombre.strip().lower() # sacarles los espacio y poenerlo en minuscula\n",
        "    lista_completamente_limpia.append(solo_nombre_no_spaces)"
      ],
      "metadata": {
        "id": "tI5zEPeXPe9k"
      },
      "execution_count": 70,
      "outputs": []
    },
    {
      "cell_type": "code",
      "source": [
        "lista_completamente_limpia"
      ],
      "metadata": {
        "colab": {
          "base_uri": "https://localhost:8080/"
        },
        "id": "ZhVzu71KRt7M",
        "outputId": "7840ec2a-0eed-4ec0-f34e-5c056cbd0283"
      },
      "execution_count": 75,
      "outputs": [
        {
          "output_type": "execute_result",
          "data": {
            "text/plain": [
              "['hugo',\n",
              " 'martín',\n",
              " 'lucas',\n",
              " 'mateo',\n",
              " 'leo',\n",
              " 'daniel',\n",
              " 'alejandro',\n",
              " 'pablo',\n",
              " 'manuel',\n",
              " 'álvaro',\n",
              " 'adrián',\n",
              " 'david',\n",
              " 'mario',\n",
              " 'hugo',\n",
              " 'martín',\n",
              " 'lucas',\n",
              " 'mateo',\n",
              " 'leo',\n",
              " 'daniel',\n",
              " 'alejandro',\n",
              " 'pablo',\n",
              " 'manuel',\n",
              " 'álvaro',\n",
              " 'adrián',\n",
              " 'david',\n",
              " 'mario',\n",
              " 'hugo',\n",
              " 'martín',\n",
              " 'lucas',\n",
              " 'mateo',\n",
              " 'leo',\n",
              " 'daniel',\n",
              " 'alejandro',\n",
              " 'pablo',\n",
              " 'manuel',\n",
              " 'álvaro',\n",
              " 'adrián',\n",
              " 'david',\n",
              " 'mario']"
            ]
          },
          "metadata": {},
          "execution_count": 75
        }
      ]
    },
    {
      "cell_type": "markdown",
      "source": [
        "MAs complejo"
      ],
      "metadata": {
        "id": "ZEW9uQCurLCN"
      }
    },
    {
      "cell_type": "code",
      "source": [
        "new_lista_nombres = \"\"\"\n",
        "101.  Abel\n",
        "102.  Adrián\n",
        "103.  Alejandro\n",
        "104.  Ángel\n",
        "105.  Carlos\n",
        "106.  César\n",
        "107.  Bruno\n",
        "108.  Daniel\n",
        "109.  Darío\n",
        "110.  David\n",
        "111.  Diego\n",
        "112.  Emilio\n",
        "113.  Fabián\n",
        "114.  Felipe\n",
        "115.  Gabriel\n",
        "116.  Héctor\n",
        "117.  Hugo\n",
        "118.  Jacobo\n",
        "119.  Jaime\n",
        "120.  Joaquín\n",
        "121.  Juan\n",
        "122.  Leonardo\n",
        "123.  Leo\n",
        "124.  Lucas\n",
        "125.  Marcos\n",
        "126.  Martín\n",
        "127.  Mateo\n",
        "128.  Matías\n",
        "129.  Miguel\n",
        "130.  Nicolás\n",
        "131.  Pablo\n",
        "132.  Raúl\n",
        "133.  Samuel\n",
        "134.  Santiago\n",
        "135.  Sebastián\n",
        "136.  Tomás\n",
        "137.  Tristán\n",
        "138.  Joan\n",
        "139.  Andrés\n",
        "140.  Ricardo\n",
        "141.  Manuel\n",
        "142.  Ezequiel\n",
        "143.  Francisco\n",
        "144.  Elías\n",
        "145.  Blas\n",
        "146.  Alfonso\n",
        "147.  Ulises\n",
        "148.  Gerardo\n",
        "149.  Alfredo\n",
        "150.  Álvaro\n",
        "151.  Amadeo\n",
        "152.  Amancio\n",
        "153.  Antonio\n",
        "154.  Baltasar\n",
        "155.  Beltrán\n",
        "156.  Benito\n",
        "157.  Rufino\n",
        "158.  Boris\n",
        "159.  Camilo\n",
        "160.  Ciro\n",
        "161.  Conrado\n",
        "162.  Donato\n",
        "\"\"\""
      ],
      "metadata": {
        "id": "gXUqzNpLrM-j"
      },
      "execution_count": 80,
      "outputs": []
    },
    {
      "cell_type": "code",
      "source": [],
      "metadata": {
        "id": "Zqzb914juYJl"
      },
      "execution_count": null,
      "outputs": []
    },
    {
      "cell_type": "code",
      "source": [
        "# FUNCIONES: bloques de codigo que puede abstraer y pasandole dato de entrada devuelve un dato de salida\n",
        "# ebtre parenyesis van las variables o argumento, que solo conviven en este contexto de la funcion\n",
        "# Se define con def\n",
        "# def --> define funcion o método\n",
        "\n",
        "def limpiador_de_texto(nombre_corregir, lista_output):\n",
        "  if nombre_corregir != \"\":\n",
        "      solo_nombre = nombre_corregir.split(\"  \")[1]  # split--> separador\n",
        "      solo_nombre_no_spaces = solo_nombre.strip().lower()\n",
        "      lista_output.append(solo_nombre_no_spaces)"
      ],
      "metadata": {
        "id": "qQFmuEwwrVZM"
      },
      "execution_count": 88,
      "outputs": []
    },
    {
      "cell_type": "code",
      "source": [
        "for name in lista_cleaned:\n",
        "  limpiador_de_texto(name, lista_completamente_limpia)"
      ],
      "metadata": {
        "id": "hMHQObtHto39"
      },
      "execution_count": 86,
      "outputs": []
    },
    {
      "cell_type": "code",
      "source": [
        "lista_completamente_limpia"
      ],
      "metadata": {
        "colab": {
          "base_uri": "https://localhost:8080/"
        },
        "id": "zOpb7aR7uFyG",
        "outputId": "06dae8c3-daa7-4b3c-f811-f6cd7ffdb6d9"
      },
      "execution_count": 87,
      "outputs": [
        {
          "output_type": "execute_result",
          "data": {
            "text/plain": [
              "['hugo',\n",
              " 'martín',\n",
              " 'lucas',\n",
              " 'mateo',\n",
              " 'leo',\n",
              " 'daniel',\n",
              " 'alejandro',\n",
              " 'pablo',\n",
              " 'manuel',\n",
              " 'álvaro',\n",
              " 'adrián',\n",
              " 'david',\n",
              " 'mario',\n",
              " 'hugo',\n",
              " 'martín',\n",
              " 'lucas',\n",
              " 'mateo',\n",
              " 'leo',\n",
              " 'daniel',\n",
              " 'alejandro',\n",
              " 'pablo',\n",
              " 'manuel',\n",
              " 'álvaro',\n",
              " 'adrián',\n",
              " 'david',\n",
              " 'mario',\n",
              " 'hugo',\n",
              " 'martín',\n",
              " 'lucas',\n",
              " 'mateo',\n",
              " 'leo',\n",
              " 'daniel',\n",
              " 'alejandro',\n",
              " 'pablo',\n",
              " 'manuel',\n",
              " 'álvaro',\n",
              " 'adrián',\n",
              " 'david',\n",
              " 'mario',\n",
              " 'hugo',\n",
              " 'martín',\n",
              " 'lucas',\n",
              " 'mateo',\n",
              " 'leo',\n",
              " 'daniel',\n",
              " 'alejandro',\n",
              " 'pablo',\n",
              " 'manuel',\n",
              " 'álvaro',\n",
              " 'adrián',\n",
              " 'david',\n",
              " 'mario',\n",
              " 'hugo',\n",
              " 'martín',\n",
              " 'lucas',\n",
              " 'mateo',\n",
              " 'leo',\n",
              " 'daniel',\n",
              " 'alejandro',\n",
              " 'pablo',\n",
              " 'manuel',\n",
              " 'álvaro',\n",
              " 'adrián',\n",
              " 'david',\n",
              " 'mario',\n",
              " 'hugo',\n",
              " 'martín',\n",
              " 'lucas',\n",
              " 'mateo',\n",
              " 'leo',\n",
              " 'daniel',\n",
              " 'alejandro',\n",
              " 'pablo',\n",
              " 'manuel',\n",
              " 'álvaro',\n",
              " 'adrián',\n",
              " 'david',\n",
              " 'mario']"
            ]
          },
          "metadata": {},
          "execution_count": 87
        }
      ]
    },
    {
      "cell_type": "markdown",
      "source": [
        "Creamos una clase --> class"
      ],
      "metadata": {
        "id": "tcDTBou7v1q-"
      }
    },
    {
      "cell_type": "code",
      "source": [
        "from os import sendfile\n",
        "# Clase me permite tener atributos y métodos\n",
        "\n",
        "class LimpiadorTexto:\n",
        "  def __init__(self, texto_limpiar): # constructor propio de la clase\n",
        "    self.texto = texto_limpiar\n",
        "    self.texto_limpio = []\n",
        "\n",
        "  def split_texto(self):\n",
        "      self.texto = self.texto.split(\"\\n\")\n",
        "\n",
        "  def _limpiador_de_texto(self, text):\n",
        "    if text != \"\":\n",
        "       solo_nombre = text.split(\"  \")[1]  # split--> separador\n",
        "       solo_nombre_no_spaces = solo_nombre.strip().lower()\n",
        "       self.texto_limpio.append(solo_nombre_no_spaces)\n",
        "\n",
        "# para q tenga todo lo spliteado hago con este metodo de manera interna\n",
        "# self para llamar metodo interno\n",
        "  def limpiar_all_text(self):\n",
        "    self.split_texto()\n",
        "    for text in self.texto:\n",
        "      self._limpiador_de_texto(text)\n",
        "\n",
        "\n",
        "  def execute(self):\n",
        "    self.limpiar_all_text()\n",
        "    return self.texto_limpio\n",
        "\n",
        "\n"
      ],
      "metadata": {
        "id": "R9HQQosJv6Rl"
      },
      "execution_count": 89,
      "outputs": []
    },
    {
      "cell_type": "code",
      "source": [
        "cleaner_limpiador = LimpiadorTexto(new_lista_nombres)"
      ],
      "metadata": {
        "id": "W_p1mp4M1g16"
      },
      "execution_count": 90,
      "outputs": []
    },
    {
      "cell_type": "code",
      "source": [
        "lista_nueva_prod = cleaner_limpiador.execute()"
      ],
      "metadata": {
        "id": "9SfpiyVM13n8"
      },
      "execution_count": 91,
      "outputs": []
    },
    {
      "cell_type": "code",
      "source": [
        "lista_nueva_prod"
      ],
      "metadata": {
        "colab": {
          "base_uri": "https://localhost:8080/"
        },
        "id": "-3xxtb1F2OQl",
        "outputId": "6b6837e7-0577-4f8e-a1e6-c88ea7289c1e"
      },
      "execution_count": 92,
      "outputs": [
        {
          "output_type": "execute_result",
          "data": {
            "text/plain": [
              "['abel',\n",
              " 'adrián',\n",
              " 'alejandro',\n",
              " 'ángel',\n",
              " 'carlos',\n",
              " 'césar',\n",
              " 'bruno',\n",
              " 'daniel',\n",
              " 'darío',\n",
              " 'david',\n",
              " 'diego',\n",
              " 'emilio',\n",
              " 'fabián',\n",
              " 'felipe',\n",
              " 'gabriel',\n",
              " 'héctor',\n",
              " 'hugo',\n",
              " 'jacobo',\n",
              " 'jaime',\n",
              " 'joaquín',\n",
              " 'juan',\n",
              " 'leonardo',\n",
              " 'leo',\n",
              " 'lucas',\n",
              " 'marcos',\n",
              " 'martín',\n",
              " 'mateo',\n",
              " 'matías',\n",
              " 'miguel',\n",
              " 'nicolás',\n",
              " 'pablo',\n",
              " 'raúl',\n",
              " 'samuel',\n",
              " 'santiago',\n",
              " 'sebastián',\n",
              " 'tomás',\n",
              " 'tristán',\n",
              " 'joan',\n",
              " 'andrés',\n",
              " 'ricardo',\n",
              " 'manuel',\n",
              " 'ezequiel',\n",
              " 'francisco',\n",
              " 'elías',\n",
              " 'blas',\n",
              " 'alfonso',\n",
              " 'ulises',\n",
              " 'gerardo',\n",
              " 'alfredo',\n",
              " 'álvaro',\n",
              " 'amadeo',\n",
              " 'amancio',\n",
              " 'antonio',\n",
              " 'baltasar',\n",
              " 'beltrán',\n",
              " 'benito',\n",
              " 'rufino',\n",
              " 'boris',\n",
              " 'camilo',\n",
              " 'ciro',\n",
              " 'conrado',\n",
              " 'donato']"
            ]
          },
          "metadata": {},
          "execution_count": 92
        }
      ]
    }
  ]
}